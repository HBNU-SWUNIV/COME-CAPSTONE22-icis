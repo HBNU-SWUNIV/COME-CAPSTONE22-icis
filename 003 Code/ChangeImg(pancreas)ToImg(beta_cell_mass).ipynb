{
  "nbformat": 4,
  "nbformat_minor": 0,
  "metadata": {
    "colab": {
      "provenance": []
    },
    "kernelspec": {
      "name": "python3",
      "display_name": "Python 3"
    },
    "language_info": {
      "name": "python"
    }
  },
  "cells": [
    {
      "cell_type": "markdown",
      "source": [
        "# 제공받은 데이터가 이미지일 경우, 차영상기법을 사용하여 beta cell mass를 추출한다"
      ],
      "metadata": {
        "id": "755g8XCL7fBk"
      }
    },
    {
      "cell_type": "code",
      "execution_count": null,
      "metadata": {
        "id": "92BT4q2ydI6y"
      },
      "outputs": [],
      "source": [
        "# OpenCV 패키지 사용\n",
        "import cv2 as cv\n",
        "import matplotlib.pyplot as plt  # 시각화 도구\n",
        "import numpy as np\n",
        "from PIL import Image\n",
        "import tqdm\n",
        "import matplotlib.pyplot as plt"
      ]
    },
    {
      "cell_type": "code",
      "source": [
        "from google.colab import drive\n",
        "drive.mount('/gdrive')"
      ],
      "metadata": {
        "id": "h9I8c77ldQqt"
      },
      "execution_count": null,
      "outputs": []
    },
    {
      "cell_type": "code",
      "source": [
        "image_original=\"/gdrive/MyDrive/College/캡스톤디자인 (Development of histologic and pathological photographic intellectualization analysis system)/test/temp.jpg\"\n",
        "image_label=\"/gdrive/MyDrive/College/캡스톤디자인 (Development of histologic and pathological photographic intellectualization analysis system)/test/temp_label.jpg\""
      ],
      "metadata": {
        "id": "xwQ_3vhZdTv3"
      },
      "execution_count": null,
      "outputs": []
    },
    {
      "cell_type": "code",
      "source": [
        "image=cv.imread(image_original)\n",
        "label=cv.imread(image_label)\n",
        "plt.subplot(1,2,1)\n",
        "plt.imshow(image)\n",
        "plt.subplot(1,2,2)\n",
        "plt.imshow(label)\n",
        "plt.show()"
      ],
      "metadata": {
        "id": "xysrsXr6gY4i"
      },
      "execution_count": null,
      "outputs": []
    },
    {
      "cell_type": "code",
      "source": [
        "crop_image=cv.subtract(image, label)\n",
        "plt.imshow(crop_image)"
      ],
      "metadata": {
        "id": "qMcVfPJng7la"
      },
      "execution_count": null,
      "outputs": []
    },
    {
      "cell_type": "code",
      "source": [
        "img_gray = cv.cvtColor(crop_image, cv.COLOR_BGR2GRAY)\n",
        "ret, thr = cv.threshold(img_gray, 10, 255, cv.THRESH_BINARY)\n",
        "plt.imshow(thr, cmap='gray') "
      ],
      "metadata": {
        "id": "KHlvaopcoHpp"
      },
      "execution_count": null,
      "outputs": []
    }
  ]
}