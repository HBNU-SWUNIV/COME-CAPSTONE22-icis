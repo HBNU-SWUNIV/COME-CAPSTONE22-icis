{
  "cells": [
    {
      "cell_type": "code",
      "execution_count": null,
      "metadata": {
        "id": "8xzC71UNmwZ4"
      },
      "outputs": [],
      "source": [
        "# OpenCV 패키지 사용\n",
        "import cv2\n",
        "import matplotlib.pyplot as plt  # 시각화 도구\n",
        "import numpy as np\n",
        "from PIL import Image\n",
        "import tqdm\n",
        "import matplotlib.pyplot as plt\n",
        "import os"
      ]
    },
    {
      "cell_type": "code",
      "execution_count": null,
      "metadata": {
        "id": "8CMXVjq2m2Wx"
      },
      "outputs": [],
      "source": [
        "workspace='/content/drive/Shareddrives/Wongs/캡스톤디자인 (Development of histologic and pathological photographic intellectualization analysis system)/test/dataset/source'\n",
        "images=os.listdir(workspace)\n",
        "images=[os.path.join(workspace,DATA) for DATA in images]"
      ]
    },
    {
      "cell_type": "code",
      "execution_count": null,
      "metadata": {
        "id": "ob06OvnUnSjH"
      },
      "outputs": [],
      "source": [
        "images"
      ]
    },
    {
      "cell_type": "code",
      "execution_count": null,
      "metadata": {
        "id": "lRCn5brHnV-_"
      },
      "outputs": [],
      "source": [
        "orginal=cv2.imread(images[9])\n",
        "# plt.imshow(orginal)"
      ]
    },
    {
      "cell_type": "code",
      "execution_count": null,
      "metadata": {
        "id": "nrlW3Ay7n1Cp"
      },
      "outputs": [],
      "source": [
        "orginal.shape"
      ]
    },
    {
      "cell_type": "code",
      "execution_count": null,
      "metadata": {
        "id": "3SdgZ52upOFH"
      },
      "outputs": [],
      "source": [
        "temp=np.copy(orginal)\n",
        "imgBlur = cv2.medianBlur(temp, 55)   \n",
        "imgBlur2 = cv2.cvtColor(imgBlur, cv2.COLOR_BGR2RGB)\n",
        "# plt.figure(figsize=(20,21))\n",
        "# plt.imshow(imgBlur2)"
      ]
    },
    {
      "cell_type": "code",
      "execution_count": null,
      "metadata": {
        "id": "s8ABuUs9qgel"
      },
      "outputs": [],
      "source": [
        "flag=np.array((imgBlur2[:,:,0]>200)&(imgBlur2[:,:,1]>200)&(imgBlur2[:,:,2]>200))\n",
        "flag.shape"
      ]
    },
    {
      "cell_type": "code",
      "execution_count": null,
      "metadata": {
        "id": "EZ_mhQpcrgmG"
      },
      "outputs": [],
      "source": [
        "import sys\n",
        "temp=np.copy(imgBlur2)\n",
        "temp[flag,:]=[0,0,0]"
      ]
    },
    {
      "cell_type": "code",
      "execution_count": null,
      "metadata": {
        "id": "inz26Tl-unQE"
      },
      "outputs": [],
      "source": [
        "temp.shape"
      ]
    },
    {
      "cell_type": "code",
      "execution_count": null,
      "metadata": {
        "id": "TNpRSLNwsRnY"
      },
      "outputs": [],
      "source": [
        "img_gray=np.copy(temp)\n",
        "img_gray=cv2.cvtColor(img_gray,cv2.COLOR_BGR2GRAY)\n",
        "contours,_ = cv2.findContours(img_gray, cv2.RETR_EXTERNAL, cv2.CHAIN_APPROX_SIMPLE)"
      ]
    },
    {
      "cell_type": "code",
      "execution_count": null,
      "metadata": {
        "id": "PReTVLduyGnT"
      },
      "outputs": [],
      "source": [
        "cn_filled=np.copy(temp)\n",
        "cn_filled=cv2.drawContours(cn_filled, contours, -1, (255,255,0), -1)\n",
        "plt.figure(figsize=(20,21))\n",
        "plt.imshow(cn_filled)"
      ]
    },
    {
      "cell_type": "code",
      "execution_count": null,
      "metadata": {
        "id": "jT-PBwMdxfWZ"
      },
      "outputs": [],
      "source": [
        "area=0\n",
        "for cnt in contours:\n",
        "    area += cv2.contourArea(cnt)\n",
        "\n",
        "print(area)"
      ]
    },
    {
      "cell_type": "code",
      "execution_count": null,
      "metadata": {
        "id": "eJBs1IUvpn3c"
      },
      "outputs": [],
      "source": [
        "beta_cell_path='/content/drive/MyDrive/College/캡스톤디자인 (Development of histologic and pathological photographic intellectualization analysis system)/test/dataset/Image_labeling/1624_labeling'\n",
        "beta_cell_list=[os.path.join(beta_cell_path,x) for x in os.listdir(beta_cell_path)]\n",
        "beta_cell_list"
      ]
    },
    {
      "cell_type": "code",
      "execution_count": null,
      "metadata": {
        "id": "rYifiq-pwHeB"
      },
      "outputs": [],
      "source": [
        "temp=cv2.imread(beta_cell_list[100])\n",
        "plt.imshow(temp)"
      ]
    },
    {
      "cell_type": "code",
      "execution_count": null,
      "metadata": {
        "colab": {
          "background_save": true
        },
        "id": "0i5UQvV_v0mY"
      },
      "outputs": [],
      "source": [
        "beta_cell_area=0\n",
        "for i in tqdm.tqdm(beta_cell_list):\n",
        "    img_color = cv2.imread(i)\n",
        "    img_gray = cv2.cvtColor(img_color, cv2.COLOR_BGR2GRAY)\n",
        "    ret, img_binary = cv2.threshold(img_gray, 127, 255, 0)\n",
        "    contours, hierarchy = cv2.findContours(img_binary, cv2.RETR_EXTERNAL, cv2.CHAIN_APPROX_SIMPLE)\n",
        "    for cnt in contours:\n",
        "        cv2.drawContours(img_color, [cnt], 0, (255, 0, 0), 3)  # blue\n",
        "\n",
        "    # plt.figure(figsize=(15, 15))\n",
        "    # plt.subplot(121)\n",
        "    # plt.imshow(img_color)\n",
        "\n",
        "    for cnt in contours:\n",
        "        beta_cell_area += cv2.contourArea(cnt)\n",
        "\n",
        "    # plt.subplot(122)\n",
        "    # plt.imshow(img_color)\n",
        "    # plt.show()\n",
        "print(beta_cell_area)"
      ]
    },
    {
      "cell_type": "code",
      "source": [
        "beta_cell_area"
      ],
      "metadata": {
        "id": "6SvIQW7p1G-Z"
      },
      "execution_count": null,
      "outputs": []
    },
    {
      "cell_type": "code",
      "execution_count": null,
      "metadata": {
        "id": "cWhqLpsfyK-T"
      },
      "outputs": [],
      "source": [
        "print('췌장세포면적 대비 베타세포 비율은 {}%입니다'.format(round(beta_cell_area/area*100,3)))"
      ]
    },
    {
      "cell_type": "markdown",
      "metadata": {
        "id": "jtELMghaVT9c"
      },
      "source": [
        "-------------"
      ]
    },
    {
      "cell_type": "code",
      "execution_count": null,
      "metadata": {
        "id": "8YG_CPTsVVk0"
      },
      "outputs": [],
      "source": [
        "orginal=cv2.imread(images[9])\n",
        "# plt.imshow(orginal)"
      ]
    },
    {
      "cell_type": "code",
      "execution_count": null,
      "metadata": {
        "id": "N8Q-8-ahVVk1"
      },
      "outputs": [],
      "source": [
        "orginal.shape"
      ]
    },
    {
      "cell_type": "code",
      "execution_count": null,
      "metadata": {
        "id": "89Tk-pHtVVk1"
      },
      "outputs": [],
      "source": [
        "temp=np.copy(orginal)\n",
        "imgBlur = cv2.medianBlur(temp, 55)\n",
        "imgBlur2 = cv2.cvtColor(imgBlur, cv2.COLOR_BGR2RGB)\n",
        "# plt.figure(figsize=(20,21))\n",
        "# plt.imshow(imgBlur2)"
      ]
    },
    {
      "cell_type": "code",
      "execution_count": null,
      "metadata": {
        "id": "E6-be0wjVVk1"
      },
      "outputs": [],
      "source": [
        "flag=np.array((imgBlur2[:,:,0]>200)&(imgBlur2[:,:,1]>200)&(imgBlur2[:,:,2]>200))\n",
        "flag.shape"
      ]
    },
    {
      "cell_type": "code",
      "execution_count": null,
      "metadata": {
        "id": "9MS77mCJgLwx"
      },
      "outputs": [],
      "source": [
        "plt.imshow(flag)"
      ]
    },
    {
      "cell_type": "code",
      "execution_count": null,
      "metadata": {
        "id": "X6Mn8YyuVVk2"
      },
      "outputs": [],
      "source": [
        "temp=np.full((flag.shape[0],flag.shape[1],3),0)\n",
        "temp[flag,:]=[255,255,255]\n",
        "plt.figure(figsize=(20,21))\n",
        "plt.imshow(temp)"
      ]
    },
    {
      "cell_type": "code",
      "execution_count": null,
      "metadata": {
        "id": "VvpzMwQuVVk2"
      },
      "outputs": [],
      "source": [
        "temp.shape"
      ]
    },
    {
      "cell_type": "code",
      "execution_count": null,
      "metadata": {
        "id": "H5n_UYetVVk2"
      },
      "outputs": [],
      "source": [
        "img_gray=np.copy(temp)\n",
        "img_gray=cv2.cvtColor(img_gray,cv2.COLOR_BGR2GRAY)\n",
        "contours,_ = cv2.findContours(img_gray, cv2.RETR_EXTERNAL, cv2.CHAIN_APPROX_SIMPLE)"
      ]
    },
    {
      "cell_type": "code",
      "execution_count": null,
      "metadata": {
        "id": "raBAdMjIVVk3"
      },
      "outputs": [],
      "source": [
        "cn=np.copy(temp)\n",
        "cn=cv2.drawContours(cn, contours, -1, (0,0,255), 5)\n",
        "plt.figure(figsize=(20,21))\n",
        "plt.imshow(cn)"
      ]
    },
    {
      "cell_type": "code",
      "execution_count": null,
      "metadata": {
        "id": "ByhH5Q8AVVk3"
      },
      "outputs": [],
      "source": [
        "cn_filled=np.copy(temp)\n",
        "cn_filled=cv2.drawContours(cn_filled, contours, -1, (255,255,0), -1)\n",
        "plt.figure(figsize=(20,21))\n",
        "plt.imshow(cn_filled)"
      ]
    },
    {
      "cell_type": "code",
      "execution_count": null,
      "metadata": {
        "id": "pMzETRc1VVk3"
      },
      "outputs": [],
      "source": [
        "area=0\n",
        "for cnt in contours:\n",
        "    area += cv2.contourArea(cnt)\n",
        "\n",
        "print(area)"
      ]
    }
  ],
  "metadata": {
    "colab": {
      "provenance": []
    },
    "kernelspec": {
      "display_name": "Python 3",
      "name": "python3"
    },
    "language_info": {
      "name": "python"
    }
  },
  "nbformat": 4,
  "nbformat_minor": 0
}